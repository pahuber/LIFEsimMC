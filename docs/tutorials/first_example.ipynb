{
 "cells": [
  {
   "metadata": {},
   "cell_type": "markdown",
   "source": [
    "# First Example\n",
    "In this first example we will set up a basic pipeline to simulate the observation of an Earth twin (with a blackbody spectrum) around a Sun twin at 10 pc. We will assume an ideal instrument without any instrumental noise and simulate the spectrum that LIFE would measure under these circumstances."
   ],
   "id": "32c482290099e8fd"
  },
  {
   "metadata": {},
   "cell_type": "markdown",
   "source": [
    "### Import Necessary Modules\n",
    "\n",
    "We start by importing the necessary modules."
   ],
   "id": "1cd03095dde90b27"
  },
  {
   "metadata": {
    "ExecuteTime": {
     "end_time": "2025-04-17T14:30:03.934654Z",
     "start_time": "2025-04-17T14:30:03.824298Z"
    }
   },
   "cell_type": "code",
   "source": [
    "import numpy as np\n",
    "from matplotlib import pyplot as plt\n",
    "from phringe.core.entities.scene import Scene\n",
    "from phringe.core.entities.sources.exozodi import Exozodi\n",
    "from phringe.core.entities.sources.local_zodi import LocalZodi\n",
    "from phringe.core.entities.sources.planet import Planet\n",
    "from phringe.core.entities.sources.star import Star\n",
    "\n",
    "from lifesimmc.core.modules.generating.data_generation_module import DataGenerationModule\n",
    "from lifesimmc.core.modules.generating.template_generation_module import TemplateGenerationModule\n",
    "from lifesimmc.core.modules.loading.setup_module import SetupModule\n",
    "from lifesimmc.core.modules.processing.correlation_map_module import CorrelationMapModule\n",
    "from lifesimmc.core.modules.processing.ml_parameter_estimation_module import MLParameterEstimationModule\n",
    "from lifesimmc.core.pipeline import Pipeline\n",
    "from lifesimmc.lib.colormaps import cmap_blue\n",
    "from lifesimmc.lib.instrument import LIFEReferenceDesign, InstrumentalNoise\n",
    "from lifesimmc.lib.observation import LIFEReferenceObservation"
   ],
   "id": "2efab22c555e5411",
   "outputs": [],
   "execution_count": 2
  },
  {
   "metadata": {},
   "cell_type": "markdown",
   "source": [
    "### Define Instrument and Observation\n",
    "We first define the `Instrument` and `Observation` objects.\n"
   ],
   "id": "d218af5d79e78efc"
  },
  {
   "metadata": {
    "ExecuteTime": {
     "end_time": "2025-04-17T14:30:05.112777Z",
     "start_time": "2025-04-17T14:30:04.582919Z"
    }
   },
   "cell_type": "code",
   "source": [
    "# Use the predefined ideal LIFE baseline instrument, i.e. without any instrumental noise\n",
    "inst = LIFEReferenceDesign(instrumental_noise=InstrumentalNoise.NONE)\n",
    "\n",
    "# Manually update the spectral resolving power\n",
    "inst.spectral_resolving_power = 30\n",
    "\n",
    "# User the predefined observation for the LIFE baseline design\n",
    "obs = LIFEReferenceObservation(\n",
    "    total_integration_time='10 d',\n",
    "    detector_integration_time='0.05 d',\n",
    "    optimized_star_separation='habitable-zone'\n",
    ")"
   ],
   "id": "f7401f2f1d06423d",
   "outputs": [],
   "execution_count": 3
  },
  {
   "metadata": {},
   "cell_type": "markdown",
   "source": [
    "### Define Astrophysical Scene\n",
    "Next we define the astrophysical `Scene` and add `Star`, `LocalZodi`, `Exozodi` and `Planet` objects to it."
   ],
   "id": "d21d09b8eb8d215e"
  },
  {
   "metadata": {
    "ExecuteTime": {
     "end_time": "2025-04-17T14:30:05.130923Z",
     "start_time": "2025-04-17T14:30:05.114442Z"
    }
   },
   "cell_type": "code",
   "source": [
    "scene = Scene()\n",
    "\n",
    "sun_twin = Star(\n",
    "    name='Sun Twin',\n",
    "    distance='10 pc',\n",
    "    mass='1 Msun',\n",
    "    radius='1 Rsun',\n",
    "    temperature='5700 K',\n",
    "    right_ascension='10 hourangle',\n",
    "    declination='45 deg',\n",
    ")\n",
    "\n",
    "local_zodi = LocalZodi()\n",
    "\n",
    "exozodi = Exozodi(level=3)\n",
    "\n",
    "earth_twin = Planet(\n",
    "    name='Earth Twin',\n",
    "    has_orbital_motion=False,\n",
    "    mass='1 Mearth',\n",
    "    radius='1 Rearth',\n",
    "    temperature='254 K',\n",
    "    semi_major_axis='1 au',\n",
    "    eccentricity='0',\n",
    "    inclination='0 deg',\n",
    "    raan='90 deg',\n",
    "    argument_of_periapsis='0 deg',\n",
    "    true_anomaly='45 deg',\n",
    "    input_spectrum=None,\n",
    ")\n",
    "\n",
    "scene.add_source(sun_twin)\n",
    "scene.add_source(local_zodi)\n",
    "scene.add_source(exozodi)\n",
    "scene.add_source(earth_twin)"
   ],
   "id": "248af402021dbeac",
   "outputs": [],
   "execution_count": 4
  },
  {
   "metadata": {},
   "cell_type": "markdown",
   "source": [
    "### Set Up Pipeline\n",
    "\n",
    "Then we set up the pipeline by first creating a `Pipeline` object and then adding the `SetupModule`, to which we pass objects we have created above.\n"
   ],
   "id": "92895a89663a73b2"
  },
  {
   "metadata": {
    "ExecuteTime": {
     "end_time": "2025-04-17T14:30:05.274158Z",
     "start_time": "2025-04-17T14:30:05.132121Z"
    }
   },
   "cell_type": "code",
   "source": [
    "# Create the pipeline\n",
    "pipeline = Pipeline(gpu_index=2, seed=42, grid_size=40)\n",
    "\n",
    "# Setup the simulation\n",
    "module = SetupModule(n_setup_out='setup', instrument=inst, observation=obs, scene=scene)\n",
    "pipeline.add_module(module)"
   ],
   "id": "e2257b88df422dd9",
   "outputs": [],
   "execution_count": 5
  },
  {
   "metadata": {},
   "cell_type": "markdown",
   "source": "For an explanation of the arguments of the `Pipeline` object consider the documentation [here](../source/core/pipeline.rst).",
   "id": "b5d26c1c30e2578e"
  },
  {
   "metadata": {},
   "cell_type": "markdown",
   "source": [
    "### Generate Data\n",
    "\n",
    "Next we generate the raw data."
   ],
   "id": "323c35ec16a94694"
  },
  {
   "metadata": {
    "ExecuteTime": {
     "end_time": "2025-04-17T14:30:05.279110Z",
     "start_time": "2025-04-17T14:30:05.276244Z"
    }
   },
   "cell_type": "code",
   "source": [
    "module = DataGenerationModule(n_setup_in='setup', n_data_out='data', n_planet_params_out='params_init')\n",
    "pipeline.add_module(module)"
   ],
   "id": "4f2d523b2216faae",
   "outputs": [],
   "execution_count": 6
  },
  {
   "metadata": {},
   "cell_type": "markdown",
   "source": [
    "### Generate Templates and Normalize Data and Templates \n",
    "\n",
    "For various processing steps we are going to need a grid of planetary templates. These steps also rely on Gaussian distributed input, so we normalize both our data and templates with the true variance of the noise.  "
   ],
   "id": "d4437959ce82000"
  },
  {
   "metadata": {
    "ExecuteTime": {
     "end_time": "2025-04-17T14:30:05.292724Z",
     "start_time": "2025-04-17T14:30:05.279993Z"
    }
   },
   "cell_type": "code",
   "source": [
    "from lifesimmc.core.modules.processing.variance_normalization_module import NoiseVarianceNormalizationModule\n",
    "\n",
    "# Generate the templates\n",
    "module = TemplateGenerationModule(n_setup_in='setup', n_template_out='temp', fov=1e-6)\n",
    "pipeline.add_module(module)\n",
    "\n",
    "# Normalize the data and templates by the variance of the noise\n",
    "module = NoiseVarianceNormalizationModule(\n",
    "    n_setup_in='setup',\n",
    "    n_data_in='data',\n",
    "    n_template_in='temp',\n",
    "    n_planet_params_in='params_init',\n",
    "    n_data_out='data_norm',\n",
    "    n_template_out='temp_norm',\n",
    "    n_transformation_out='norm',\n",
    ")\n",
    "pipeline.add_module(module)"
   ],
   "id": "7f7c047e405c77e7",
   "outputs": [],
   "execution_count": 7
  },
  {
   "metadata": {},
   "cell_type": "markdown",
   "source": [
    "### Plot Correlation Map\n",
    "To get a first glimpse at our data we can correlate them with our grid of planetary templates: "
   ],
   "id": "92d8430eba21f0b9"
  },
  {
   "metadata": {
    "ExecuteTime": {
     "end_time": "2025-04-17T14:30:06.322557Z",
     "start_time": "2025-04-17T14:30:05.293634Z"
    }
   },
   "cell_type": "code",
   "source": [
    "# Generate the correlation map\n",
    "module = CorrelationMapModule(n_data_in='data_norm', n_template_in='temp_norm', n_image_out='imag_corr')\n",
    "pipeline.add_module(module)\n",
    "\n",
    "# Run pipeline with all modules we have added so far\n",
    "pipeline.run()\n",
    "\n",
    "# Get the correlation map from the image resource\n",
    "imag_corr = pipeline.get_resource('imag_corr').get_image(as_numpy=True)\n",
    "\n",
    "# Plot the image\n",
    "plt.imshow(imag_corr, cmap=cmap_blue)\n",
    "plt.colorbar()\n",
    "plt.show()"
   ],
   "id": "a2c0536037d3e21b",
   "outputs": [
    {
     "name": "stdout",
     "output_type": "stream",
     "text": [
      "Loading configuration...\n",
      "Done\n",
      "Generating synthetic data...\n"
     ]
    },
    {
     "name": "stderr",
     "output_type": "stream",
     "text": [
      "100%|██████████| 1/1 [00:00<00:00,  1.85it/s]\n"
     ]
    },
    {
     "name": "stdout",
     "output_type": "stream",
     "text": [
      "Done\n",
      "Generating templates...\n",
      "Done\n",
      "Normalizing with noise variance...\n",
      "Done\n",
      "Calculating correlation map...\n",
      "Done\n"
     ]
    },
    {
     "data": {
      "text/plain": [
       "<Figure size 640x480 with 2 Axes>"
      ],
      "image/png": "[encoded data removed]"
     },
     "metadata": {},
     "output_type": "display_data"
    }
   ],
   "execution_count": 8
  },
  {
   "metadata": {},
   "cell_type": "markdown",
   "source": [
    "### Extract the Planetary Spectrum\n",
    "\n",
    "We now extract the planetary spectrum and coordinates from our data using a (numerical) maximum likelihood estimation. This will take a few seconds to run."
   ],
   "id": "570a886d5d460c3a"
  },
  {
   "metadata": {
    "ExecuteTime": {
     "end_time": "2025-04-17T14:30:07.940066Z",
     "start_time": "2025-04-17T14:30:06.323494Z"
    }
   },
   "cell_type": "code",
   "source": [
    "module = MLParameterEstimationModule(\n",
    "    n_setup_in='setup',\n",
    "    n_data_in='data_norm',\n",
    "    n_template_in='temp_norm',\n",
    "    n_transformation_in='norm',\n",
    "    n_planet_params_in='params_init',\n",
    "    n_planet_params_out='params_ml',\n",
    ")\n",
    "pipeline.add_module(module)\n",
    "pipeline.run()"
   ],
   "id": "21e567ec557711f7",
   "outputs": [
    {
     "name": "stdout",
     "output_type": "stream",
     "text": [
      "Performing numerical MLE...\n",
      "Done\n"
     ]
    }
   ],
   "execution_count": 9
  },
  {
   "metadata": {},
   "cell_type": "markdown",
   "source": "Finally, we plot the extracted flux and corresponding uncertainties:",
   "id": "403b11349c02fcf1"
  },
  {
   "metadata": {
    "ExecuteTime": {
     "end_time": "2025-04-17T14:30:08.165862Z",
     "start_time": "2025-04-17T14:30:07.941162Z"
    }
   },
   "cell_type": "code",
   "source": [
    "# Get the initial (input) parameters so we can plot the input spectrum (spectral energy distribution; SED) as a reference\n",
    "params_init = pipeline.get_resource('params_init')\n",
    "sed_init = params_init.params[0].sed.cpu().numpy()[:-1]  # Convert to numpy array from a torch Tensor\n",
    "sed_init /= 1e6  # Convert to ph s-1 m-2 um-1\n",
    "wavelengths = params_init.params[0].sed_wavelength_bin_centers.cpu().numpy()  # Convert to Torch tensor\n",
    "wavelengths *= 1e6  # Convert from m to um\n",
    "\n",
    "# Get the estimated parameters\n",
    "params_ml = pipeline.get_resource('params_ml')\n",
    "sed_estimated = params_ml.params[0].sed.cpu().numpy()\n",
    "sed_estimated /= 1e6  # Convert to ph s-1 m-2 um-1\n",
    "sed_err_low = params_ml.params[0].sed_err_low / 1e6\n",
    "sed_err_high = params_ml.params[0].sed_err_high / 1e6\n",
    "\n",
    "# Plot everything\n",
    "yerr = np.stack([sed_err_low, sed_err_high])\n",
    "plt.errorbar(\n",
    "    wavelengths,\n",
    "    sed_estimated,\n",
    "    yerr=yerr,\n",
    "    fmt='none',\n",
    "    ecolor='gray',\n",
    "    alpha=0.8,\n",
    "    zorder=1,\n",
    "    capsize=1.5,\n",
    "    capthick=0.5,\n",
    "    linewidth=0.5\n",
    ")\n",
    "plt.fill_between(\n",
    "    wavelengths[:-1],\n",
    "    np.array(sed_init) - np.array(sed_err_low)[:-1],\n",
    "    np.array(sed_init) + np.array(sed_err_high)[:-1],\n",
    "    color='dodgerblue',\n",
    "    edgecolor=None,\n",
    "    lw=0,\n",
    "    alpha=0.2,\n",
    "    label='1$\\sigma$',\n",
    "    zorder=0\n",
    ")\n",
    "plt.scatter(wavelengths, sed_estimated, label='Data', color=\"xkcd:sapphire\", zorder=2, marker='.')\n",
    "plt.plot(wavelengths[:-1], sed_init, label='True', linestyle='dashed', color='black', alpha=0.6, zorder=1)\n",
    "plt.title('True vs. Estimated Spectrum')\n",
    "plt.xlabel('Wavelength ($\\mu$m)')\n",
    "plt.ylabel('SED (ph s$^{-1}$ m$^{-2}$ $\\mu$m$^{-1}$)')\n",
    "plt.ylim(-0.2, 0.6)\n",
    "plt.legend()\n",
    "plt.show()"
   ],
   "id": "fd17d8178d5d0165",
   "outputs": [
    {
     "data": {
      "text/plain": [
       "<Figure size 640x480 with 1 Axes>"
      ],
      "image/png": "[encoded data removed]"
     },
     "metadata": {},
     "output_type": "display_data"
    }
   ],
   "execution_count": 10
  }
 ],
 "metadata": {
  "kernelspec": {
   "display_name": "Python 3",
   "language": "python",
   "name": "python3"
  },
  "language_info": {
   "codemirror_mode": {
    "name": "ipython",
    "version": 2
   },
   "file_extension": ".py",
   "mimetype": "text/x-python",
   "name": "python",
   "nbconvert_exporter": "python",
   "pygments_lexer": "ipython2",
   "version": "2.7.6"
  }
 },
 "nbformat": 4,
 "nbformat_minor": 5
}
