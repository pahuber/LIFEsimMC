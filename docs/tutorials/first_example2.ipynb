{
 "cells": [
  {
   "metadata": {},
   "cell_type": "markdown",
   "source": [
    "# First Example\n",
    "In this example we will set up a basic pipeline to simulate the observation of an Earth twin (with a blackbody spectrum) around a Sun twin at 10 pc. We will assume an ideal instrument without any instrumental noise and simulate the spectrum that LIFE would measure under these circumstances.\n",
    "To set up the pipeline we will use a config file, which can be downloaded (saved) [here](../_static/config_first_example.py)."
   ],
   "id": "32c482290099e8fd"
  },
  {
   "metadata": {},
   "cell_type": "markdown",
   "source": [
    "### Import Necessary Modules\n",
    "\n",
    "We start by importing the necessary modules."
   ],
   "id": "1cd03095dde90b27"
  },
  {
   "metadata": {
    "ExecuteTime": {
     "end_time": "2025-04-14T07:38:30.419833Z",
     "start_time": "2025-04-14T07:38:27.670616Z"
    }
   },
   "cell_type": "code",
   "source": [
    "\n",
    "\n",
    "import numpy as np\n",
    "from matplotlib import pyplot as plt\n",
    "from phringe.core.entities.scene import Scene\n",
    "from phringe.core.entities.sources.exozodi import Exozodi\n",
    "from phringe.core.entities.sources.local_zodi import LocalZodi\n",
    "from phringe.core.entities.sources.planet import Planet\n",
    "from phringe.core.entities.sources.star import Star\n",
    "\n",
    "from lifesimmc.core.modules.generating.data_generation_module import DataGenerationModule\n",
    "from lifesimmc.core.modules.generating.template_generation_module import TemplateGenerationModule\n",
    "from lifesimmc.core.modules.loading.setup_module import SetupModule\n",
    "from lifesimmc.core.modules.processing.correlation_map_module import CorrelationMapModule\n",
    "from lifesimmc.core.modules.processing.ml_parameter_estimation_module import MLParameterEstimationModule\n",
    "from lifesimmc.core.pipeline import Pipeline\n",
    "from lifesimmc.lib.instrument import LIFEReferenceDesign, InstrumentalNoise\n",
    "from lifesimmc.lib.observation import LIFEReferenceObservation"
   ],
   "id": "2efab22c555e5411",
   "outputs": [],
   "execution_count": 1
  },
  {
   "metadata": {},
   "cell_type": "markdown",
   "source": "### Define Instrument and Observation\n",
   "id": "d218af5d79e78efc"
  },
  {
   "metadata": {
    "ExecuteTime": {
     "end_time": "2025-04-14T07:38:31.935960Z",
     "start_time": "2025-04-14T07:38:31.376686Z"
    }
   },
   "cell_type": "code",
   "source": [
    "# Use the predefined ideal LIFE baseline instrument, i.e. without any instrumental noise\n",
    "inst = LIFEReferenceDesign(instrumental_noise=InstrumentalNoise.NONE)\n",
    "\n",
    "# User the predefined observation for the LIFE baseline design\n",
    "obs = LIFEReferenceObservation(\n",
    "    total_integration_time='10 d',\n",
    "    detector_integration_time='1200 s',\n",
    "    optimized_star_separation='habitable-zone'\n",
    ")"
   ],
   "id": "f7401f2f1d06423d",
   "outputs": [],
   "execution_count": 2
  },
  {
   "metadata": {},
   "cell_type": "markdown",
   "source": "### Define Astrophysical Scene ",
   "id": "d21d09b8eb8d215e"
  },
  {
   "metadata": {
    "ExecuteTime": {
     "end_time": "2025-04-14T07:38:32.937129Z",
     "start_time": "2025-04-14T07:38:32.900147Z"
    }
   },
   "cell_type": "code",
   "source": [
    "scene = Scene()\n",
    "\n",
    "sun_twin = Star(\n",
    "    name='Sun Twin',\n",
    "    distance='10 pc',\n",
    "    mass='1 Msun',\n",
    "    radius='1 Rsun',\n",
    "    temperature='5700 K',\n",
    "    right_ascension='10 hourangle',\n",
    "    declination='45 deg',\n",
    ")\n",
    "\n",
    "local_zodi = LocalZodi()\n",
    "\n",
    "exozodi = Exozodi(level=3)\n",
    "\n",
    "earth_twin = Planet(\n",
    "    name='Earth Twin',\n",
    "    has_orbital_motion=False,\n",
    "    mass='1 Mearth',\n",
    "    radius='1 Rearth',\n",
    "    temperature='254 K',\n",
    "    semi_major_axis='1 au',\n",
    "    eccentricity='0',\n",
    "    inclination='0 deg',\n",
    "    raan='90 deg',\n",
    "    argument_of_periapsis='0 deg',\n",
    "    true_anomaly='45 deg',\n",
    "    input_spectrum=None,\n",
    ")\n",
    "\n",
    "scene.add_source(sun_twin)\n",
    "scene.add_source(local_zodi)\n",
    "scene.add_source(exozodi)\n",
    "scene.add_source(earth_twin)"
   ],
   "id": "248af402021dbeac",
   "outputs": [],
   "execution_count": 3
  },
  {
   "metadata": {},
   "cell_type": "markdown",
   "source": [
    "### Set Up Pipeline\n",
    "\n",
    "Then we set up the pipeline by creating a `Pipeline` object (see documentation [here](../source/core/pipeline.rst)). We also create and add the `SetupModule`, to which we pass the path to the config file in a `Configuration` object. It produces a `ConfigResource`, which we have given the name `conf` that contains information about the setup of the simulation and is used in other modules again.\n"
   ],
   "id": "92895a89663a73b2"
  },
  {
   "metadata": {
    "ExecuteTime": {
     "end_time": "2025-04-14T07:38:34.086563Z",
     "start_time": "2025-04-14T07:38:34.079729Z"
    }
   },
   "cell_type": "code",
   "source": [
    "# Create the pipeline\n",
    "pipeline = Pipeline(gpu_index=None, seed=None, grid_size=40)\n",
    "\n",
    "# Setup the simulation\n",
    "module = SetupModule(n_setup_out='setup', instrument=inst, observation=obs, scene=scene)\n",
    "pipeline.add_module(module)"
   ],
   "id": "e2257b88df422dd9",
   "outputs": [],
   "execution_count": 4
  },
  {
   "metadata": {},
   "cell_type": "markdown",
   "source": [
    "We can pass the `Pipeline` a `gpu_index` corresponding to the index of the GPU we want to use. If no GPUs are available, this will simply be ignored, but it can also directly be set to `None`.\n",
    "The `seed` argument accounts for the randomness in the simulation and can be set to a specific number to reproduce the same results over multiple runs. We set it to `None` here to produce random results. Finally, the `grid_size` corresponds to the spatial resolution of the simulations and is a trade-off between precision and computation power. `40` is a reasonable value, but higher values (e.g. `200`) can also be used for certain cases. "
   ],
   "id": "b5d26c1c30e2578e"
  },
  {
   "metadata": {},
   "cell_type": "markdown",
   "source": [
    "### Generate Data\n",
    "\n",
    "Next we add the `DataGenerationModule` to generate the raw data of the instrument. It requires the `ConfigResource` from the `SetupModule`above and outputs a `DataResource`, which contains the raw nulling data, and a `PlanetParamsResource`, which\n",
    "contain the initial planetary parameters as specified in the config file."
   ],
   "id": "323c35ec16a94694"
  },
  {
   "metadata": {
    "ExecuteTime": {
     "end_time": "2025-04-14T07:38:35.563880Z",
     "start_time": "2025-04-14T07:38:35.559033Z"
    }
   },
   "cell_type": "code",
   "source": [
    "module = DataGenerationModule(n_setup_in='setup', n_data_out='data', n_planet_params_out='params_init')\n",
    "pipeline.add_module(module)"
   ],
   "id": "4f2d523b2216faae",
   "outputs": [],
   "execution_count": 5
  },
  {
   "metadata": {},
   "cell_type": "markdown",
   "source": [
    "### Generate Templates and Correlation Map\n",
    "\n",
    "To get a first idea of the quality of our measurement, we now generate a set of planetary templates in a $10^{-6}$ x $10^{-6}$ rad$^2$ patch of the sky and then correlate these templates with our data:"
   ],
   "id": "d4437959ce82000"
  },
  {
   "metadata": {
    "ExecuteTime": {
     "end_time": "2025-04-14T07:38:36.634541Z",
     "start_time": "2025-04-14T07:38:36.630491Z"
    }
   },
   "cell_type": "code",
   "source": [
    "module = TemplateGenerationModule(n_setup_in='setup', n_template_out='temp', fov=1e-6)\n",
    "pipeline.add_module(module)\n",
    "\n",
    "module = CorrelationMapModule(n_data_in='data', n_template_in='temp', n_image_out='imag_corr')\n",
    "pipeline.add_module(module)"
   ],
   "id": "e0fffa5c75f55448",
   "outputs": [],
   "execution_count": 6
  },
  {
   "metadata": {},
   "cell_type": "markdown",
   "source": "We can run the pipeline with all the modules we have added so far and have a look at the generated correlation map:",
   "id": "a6a682f7cf8f5e74"
  },
  {
   "metadata": {
    "ExecuteTime": {
     "end_time": "2025-04-14T07:39:08.784658Z",
     "start_time": "2025-04-14T07:38:37.853956Z"
    }
   },
   "cell_type": "code",
   "source": [
    "# Run pipeline\n",
    "pipeline.run()\n",
    "\n",
    "# Get the correlation map from the image resource and plot it\n",
    "imag_corr = pipeline.get_resource('imag_corr').get_image(as_numpy=True)\n",
    "\n",
    "plt.imshow(imag_corr, cmap='magma')\n",
    "plt.colorbar()\n",
    "plt.show()"
   ],
   "id": "a2c0536037d3e21b",
   "outputs": [
    {
     "name": "stdout",
     "output_type": "stream",
     "text": [
      "Loading configuration...\n",
      "Done\n",
      "Generating synthetic data...\n"
     ]
    },
    {
     "name": "stderr",
     "output_type": "stream",
     "text": [
      "100%|██████████| 1/1 [00:25<00:00, 25.10s/it]\n"
     ]
    },
    {
     "name": "stdout",
     "output_type": "stream",
     "text": [
      "Done\n",
      "Generating templates...\n",
      "Done\n",
      "Calculating correlation map...\n",
      "Done\n"
     ]
    },
    {
     "data": {
      "text/plain": [
       "<Figure size 640x480 with 2 Axes>"
      ],
      "image/png": "[encoded data removed]"
     },
     "metadata": {},
     "output_type": "display_data"
    }
   ],
   "execution_count": 7
  },
  {
   "metadata": {},
   "cell_type": "markdown",
   "source": [
    "### Extract the Planetary Spectrum\n",
    "\n",
    "We now extract the planetary spectrum and coordinates from our data using a (numerical) maximum likelihood estimation. This will take a few seconds to run."
   ],
   "id": "570a886d5d460c3a"
  },
  {
   "metadata": {
    "ExecuteTime": {
     "end_time": "2025-04-14T07:40:35.121721Z",
     "start_time": "2025-04-14T07:40:16.830027Z"
    }
   },
   "cell_type": "code",
   "source": [
    "module = MLParameterEstimationModule(\n",
    "    n_setup_in='setup',\n",
    "    n_data_in='data',\n",
    "    n_template_in='temp',\n",
    "    n_planet_params_out='params_ml',\n",
    "    n_planet_params_in='params_init',\n",
    ")\n",
    "pipeline.add_module(module)\n",
    "pipeline.run()"
   ],
   "id": "21e567ec557711f7",
   "outputs": [
    {
     "name": "stdout",
     "output_type": "stream",
     "text": [
      "Performing numerical MLE...\n",
      "Done\n"
     ]
    }
   ],
   "execution_count": 9
  },
  {
   "metadata": {},
   "cell_type": "markdown",
   "source": "Finally, we plot the extracted flux and corresponding uncertainties:",
   "id": "403b11349c02fcf1"
  },
  {
   "metadata": {
    "ExecuteTime": {
     "end_time": "2025-04-14T07:40:35.378084Z",
     "start_time": "2025-04-14T07:40:35.123218Z"
    }
   },
   "cell_type": "code",
   "source": [
    "# Get the initial (input) parameters so we can plot the input spectrum (spectral energy distribution; SED) as a reference\n",
    "params_init = pipeline.get_resource('params_init')\n",
    "sed_init = params_init.params[0].sed.cpu().numpy()[:-1]  # Convert to numpy array from a torch Tensor\n",
    "sed_init /= 1e6  # Convert to ph s-1 m-2 um-1\n",
    "wavelengths = params_init.params[\n",
    "    0].sed_wavelength_bin_centers.cpu().numpy()  # Convert to numpy array from a Torch tensor\n",
    "wavelengths *= 1e6  # Convert from m to um\n",
    "\n",
    "# Get the estimated parameters\n",
    "params_ml = pipeline.get_resource('params_ml')\n",
    "sed_estimated = params_ml.params[0].sed.cpu().numpy()\n",
    "sed_estimated /= 1e6  # Convert to ph s-1 m-2 um-1\n",
    "sed_err_low = params_ml.params[0].sed_err_low / 1e6\n",
    "sed_err_high = params_ml.params[0].sed_err_high / 1e6\n",
    "\n",
    "# Plot everything\n",
    "yerr = np.stack([sed_err_low, sed_err_high])\n",
    "plt.errorbar(wavelengths, sed_estimated, yerr=yerr, fmt='none', ecolor='gray', alpha=0.8, zorder=1,\n",
    "             capsize=1.5,\n",
    "             capthick=0.5, linewidth=0.5)\n",
    "plt.fill_between(\n",
    "    wavelengths[:-1],\n",
    "    np.array(sed_init) - np.array(sed_err_low)[:-1],\n",
    "    np.array(sed_init) + np.array(sed_err_high)[:-1],\n",
    "    color='dodgerblue',\n",
    "    edgecolor=None,\n",
    "    lw=0,\n",
    "    alpha=0.2,\n",
    "    label='1$\\sigma$',\n",
    "    zorder=0\n",
    ")\n",
    "plt.scatter(wavelengths, sed_estimated, label='Data', color=\"xkcd:sapphire\", zorder=2, marker='.')\n",
    "plt.plot(wavelengths[:-1], sed_init, label='True', linestyle='dashed', color='black', alpha=0.6, zorder=1)\n",
    "plt.title('True vs. Estimated Spectrum')\n",
    "plt.xlabel('Wavelength ($\\mu$m)')\n",
    "plt.ylabel('SED (ph s$^{-1}$ m$^{-2}$ $\\mu$m$^{-1}$)')\n",
    "plt.legend()\n",
    "plt.show()"
   ],
   "id": "fd17d8178d5d0165",
   "outputs": [
    {
     "data": {
      "text/plain": [
       "<Figure size 640x480 with 1 Axes>"
      ],
      "image/png": "[encoded data removed]"
     },
     "metadata": {},
     "output_type": "display_data"
    }
   ],
   "execution_count": 10
  },
  {
   "metadata": {},
   "cell_type": "code",
   "outputs": [],
   "execution_count": null,
   "source": "",
   "id": "104cfda6da8de261"
  }
 ],
 "metadata": {
  "kernelspec": {
   "display_name": "Python 3",
   "language": "python",
   "name": "python3"
  },
  "language_info": {
   "codemirror_mode": {
    "name": "ipython",
    "version": 2
   },
   "file_extension": ".py",
   "mimetype": "text/x-python",
   "name": "python",
   "nbconvert_exporter": "python",
   "pygments_lexer": "ipython2",
   "version": "2.7.6"
  }
 },
 "nbformat": 4,
 "nbformat_minor": 5
}
